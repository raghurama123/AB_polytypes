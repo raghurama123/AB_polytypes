{
 "cells": [
  {
   "cell_type": "code",
   "execution_count": 1,
   "id": "65156f7a",
   "metadata": {},
   "outputs": [],
   "source": [
    "import numpy as np\n",
    "from scipy import linalg"
   ]
  },
  {
   "cell_type": "code",
   "execution_count": 2,
   "id": "6537d038",
   "metadata": {},
   "outputs": [],
   "source": [
    "def linsolve(A,b):\n",
    "    x = linalg.solve(A, b)\n",
    "    return x"
   ]
  },
  {
   "cell_type": "code",
   "execution_count": 3,
   "id": "66d8086a",
   "metadata": {},
   "outputs": [],
   "source": [
    "def sigma(seq):\n",
    "    if seq == 'AB':\n",
    "        sig=+1\n",
    "    elif seq == 'BA':\n",
    "        sig=-1\n",
    "    elif seq == 'BC':\n",
    "        sig=+1\n",
    "    elif seq == 'CB':\n",
    "        sig=-1\n",
    "    elif seq == 'CA':\n",
    "        sig=+1\n",
    "    elif seq == 'AC':\n",
    "        sig=-1\n",
    "    return sig"
   ]
  },
  {
   "cell_type": "code",
   "execution_count": 4,
   "id": "16317d8e",
   "metadata": {},
   "outputs": [],
   "source": [
    "def Supercell(stack):\n",
    "    \n",
    "    N_supercell=20\n",
    "    \n",
    "    Layers=[]\n",
    "    for j in range(0,N_supercell):\n",
    "        for i in range(len(stack)):\n",
    "            Layers.append(stack[i]) \n",
    "            \n",
    "    return Layers"
   ]
  },
  {
   "cell_type": "markdown",
   "id": "e047f4ff",
   "metadata": {},
   "source": [
    "# Stoichiometric matrix with pairwise terms"
   ]
  },
  {
   "cell_type": "code",
   "execution_count": 5,
   "id": "865f5ce3",
   "metadata": {},
   "outputs": [],
   "source": [
    "def stoiJ(stack,N_int):\n",
    "    stacks=Supercell(stack)\n",
    "    A=[]\n",
    "    for i in range(len(stack)):\n",
    "        sig_i=sigma(stacks[i]+stacks[i+1])\n",
    "        row=[]\n",
    "        for j in range(1,N_int+1):\n",
    "            sig_j=sigma(stacks[i+j]+stacks[i+j+1])\n",
    "            row.append(-sig_i*sig_j)\n",
    "        A.append(row)\n",
    "    A=np.array(A)/len(stack)\n",
    "    row=[1]\n",
    "    for j in range(0,N_int):\n",
    "        row.append(np.sum(A[:,j]))\n",
    "    return row"
   ]
  },
  {
   "cell_type": "code",
   "execution_count": 6,
   "id": "0763f8e1",
   "metadata": {},
   "outputs": [],
   "source": [
    "def StoiMatJ(stacks,N_int):\n",
    "    \n",
    "    A=[]\n",
    "    \n",
    "    for stack in stacks:\n",
    "        row=stoiJ(stack,N_int)\n",
    "        A.append(row)\n",
    "        \n",
    "    A=np.array(A)\n",
    "    return A"
   ]
  },
  {
   "cell_type": "code",
   "execution_count": 7,
   "id": "d41fd0da",
   "metadata": {},
   "outputs": [
    {
     "name": "stdout",
     "output_type": "stream",
     "text": [
      "[[ 1.          1.         -1.          1.        ]\n",
      " [ 1.         -1.         -1.         -1.        ]\n",
      " [ 1.          0.          1.          0.        ]\n",
      " [ 1.         -0.2        -0.2        -0.2       ]\n",
      " [ 1.          0.33333333  0.33333333 -0.33333333]\n",
      " [ 1.         -0.33333333  0.33333333  1.        ]]\n"
     ]
    }
   ],
   "source": [
    "stacks=['AB','ABC','ABAC','ABABC','ABABAC','ABACBC']\n",
    "A=StoiMatJ(stacks,3)  # interactions until the third later\n",
    "print(A)"
   ]
  },
  {
   "cell_type": "markdown",
   "id": "1c61afc9",
   "metadata": {},
   "source": [
    "# Stoichiometric matrix with pairwise terms and a 4-body term"
   ]
  },
  {
   "cell_type": "code",
   "execution_count": 8,
   "id": "281380d0",
   "metadata": {},
   "outputs": [],
   "source": [
    "def stoiJK(stack,N_int):\n",
    "    \n",
    "    stacks=Supercell(stack)\n",
    "    \n",
    "    A=[]\n",
    "    for i in range(len(stack)):\n",
    "        sig_i=sigma(stacks[i]+stacks[i+1])\n",
    "        row=[]\n",
    "        for j in range(1,N_int+1):\n",
    "            sig_j=sigma(stacks[i+j]+stacks[i+j+1])\n",
    "            #row.append(-sig_i*sig_j)\n",
    "            row.append(sig_i*sig_j)\n",
    "        sig_i1=sigma(stacks[i+1]+stacks[i+2])\n",
    "        sig_i2=sigma(stacks[i+2]+stacks[i+3])\n",
    "        sig_i3=sigma(stacks[i+3]+stacks[i+4])\n",
    "        #row.append(-sig_i*sig_i1*sig_i2*sig_i3)\n",
    "        row.append(sig_i*sig_i1*sig_i2*sig_i3)\n",
    "        A.append(row)\n",
    "        \n",
    "    A=np.array(A)/len(stack)\n",
    "\n",
    "    row=[1]\n",
    "    for j in range(0,N_int+1):\n",
    "        row.append(np.sum(A[:,j]))\n",
    "        \n",
    "    return row"
   ]
  },
  {
   "cell_type": "code",
   "execution_count": 9,
   "id": "f8e7d391",
   "metadata": {},
   "outputs": [],
   "source": [
    "def StoiMatJK(stacks,N_int):\n",
    "    \n",
    "    A=[]\n",
    "    \n",
    "    for stack in stacks:\n",
    "        row=stoiJK(stack,N_int)\n",
    "        A.append(row)\n",
    "        \n",
    "    A=np.array(A)\n",
    "    \n",
    "    return A"
   ]
  },
  {
   "cell_type": "code",
   "execution_count": 10,
   "id": "cec85750",
   "metadata": {},
   "outputs": [
    {
     "name": "stdout",
     "output_type": "stream",
     "text": [
      "[[ 1.         -1.          1.         -1.          1.        ]\n",
      " [ 1.          1.          1.          1.          1.        ]\n",
      " [ 1.          0.         -1.          0.          1.        ]\n",
      " [ 1.          0.2         0.2         0.2        -0.6       ]\n",
      " [ 1.         -0.33333333 -0.33333333  0.33333333  0.33333333]\n",
      " [ 1.          0.33333333 -0.33333333 -1.         -0.33333333]]\n"
     ]
    }
   ],
   "source": [
    "stacks=['AB','ABC','ABAC','ABABC','ABABAC','ABACBC']\n",
    "A=StoiMatJK(stacks,3) # interactions until the third later\n",
    "print(A)"
   ]
  }
 ],
 "metadata": {
  "kernelspec": {
   "display_name": "Python 3 (ipykernel)",
   "language": "python",
   "name": "python3"
  },
  "language_info": {
   "codemirror_mode": {
    "name": "ipython",
    "version": 3
   },
   "file_extension": ".py",
   "mimetype": "text/x-python",
   "name": "python",
   "nbconvert_exporter": "python",
   "pygments_lexer": "ipython3",
   "version": "3.9.13"
  }
 },
 "nbformat": 4,
 "nbformat_minor": 5
}
