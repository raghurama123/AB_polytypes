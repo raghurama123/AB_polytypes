{
 "cells": [
  {
   "cell_type": "markdown",
   "id": "59c629d7",
   "metadata": {},
   "source": [
    "# Code to convert `hk` sequence to `AB` sequence"
   ]
  },
  {
   "cell_type": "code",
   "execution_count": 1,
   "id": "7e89e198",
   "metadata": {},
   "outputs": [],
   "source": [
    "def perm(pm,X):\n",
    "    '''\n",
    "    For a given pm (+ or -) and layer name X (A, B or C) returns the next layer.\n",
    "    '''\n",
    "    if pm == 'p':\n",
    "        if X == 'A':\n",
    "            nex='B'\n",
    "        elif X == 'B':\n",
    "            nex='C'\n",
    "        else:\n",
    "            nex='A'\n",
    "    else:\n",
    "        if X == 'A':\n",
    "            nex = 'C'\n",
    "        elif X == 'B':\n",
    "            nex = 'A'\n",
    "        else:\n",
    "            nex = 'B'\n",
    "    \n",
    "    return nex"
   ]
  },
  {
   "cell_type": "code",
   "execution_count": 2,
   "id": "9e7e0483",
   "metadata": {},
   "outputs": [],
   "source": [
    "def pm2AB(pm):\n",
    "    \n",
    "    N=len(pm)\n",
    "    \n",
    "    stack1=[]\n",
    "        \n",
    "    start='A'\n",
    "    \n",
    "    stack1.append(start)\n",
    "\n",
    "    last1=start \n",
    "    #print(0,pm[0],last1)\n",
    "    for i in range(1,N):\n",
    "        nex=perm(pm[i-1],last1)\n",
    "        #print(i,pm[i-1],last1,nex)\n",
    "        stack1.append(nex)\n",
    "        last1=nex\n",
    "                    \n",
    "    return stack1"
   ]
  },
  {
   "cell_type": "code",
   "execution_count": 3,
   "id": "660422c8",
   "metadata": {},
   "outputs": [],
   "source": [
    "def lex(st1, st2):\n",
    "    \n",
    "    stack1=''\n",
    "    for i in range(len(st1)):\n",
    "        stack1=stack1+st1[i]\n",
    "    \n",
    "    all_stacks1=[stack1]\n",
    "    N1=len(stack1)\n",
    "    for i in range(N1):\n",
    "        pstack1=stack1[N1-1]+stack1[0:N1-1]\n",
    "        all_stacks1.append(pstack1)\n",
    "        stack1=pstack1\n",
    "        \n",
    "    rst1=st1[::-1]\n",
    "    stack1=''\n",
    "    for i in range(len(st1)):\n",
    "        stack1=stack1+rst1[i]\n",
    "    \n",
    "    N1=len(stack1)\n",
    "    for i in range(N1):\n",
    "        pstack1=stack1[N1-1]+stack1[0:N1-1]\n",
    "        all_stacks1.append(pstack1)\n",
    "        stack1=pstack1\n",
    "        \n",
    "    stack2=''\n",
    "    for i in range(len(st2)):\n",
    "        stack2=stack2+st2[i]\n",
    "        \n",
    "    all_stacks2=[stack2]\n",
    "    N2=len(stack2)\n",
    "    for i in range(N2):\n",
    "        pstack2=stack2[N2-1]+stack2[0:N2-1]\n",
    "        all_stacks2.append(pstack2)\n",
    "        stack2=pstack2\n",
    "        \n",
    "    rst2=st2[::-1]\n",
    "    \n",
    "    stack2=''\n",
    "    for i in range(len(rst2)):\n",
    "        stack2=stack2+rst2[i]\n",
    "        \n",
    "    N2=len(stack2)\n",
    "    for i in range(N2):\n",
    "        pstack2=stack2[N2-1]+stack2[0:N2-1]\n",
    "        all_stacks2.append(pstack2)\n",
    "        stack2=pstack2\n",
    "    \n",
    "    stacks=all_stacks1+all_stacks2\n",
    "    \n",
    "    sorted_str=sorted(stacks)\n",
    "    \n",
    "    return sorted_str[0]"
   ]
  },
  {
   "cell_type": "code",
   "execution_count": 4,
   "id": "4516ddb9",
   "metadata": {},
   "outputs": [],
   "source": [
    "def hk2AB(hk):\n",
    "    \n",
    "    N=len(hk)\n",
    "    \n",
    "    stack1=[]\n",
    "    stack2=[]\n",
    "    \n",
    "    for i in range(N):  \n",
    "        \n",
    "        if i == 0:\n",
    "            \n",
    "            stack1.append('p')\n",
    "            stack2.append('m')\n",
    "            if hk[i] == 'h':\n",
    "                stack1.append('m')\n",
    "                stack2.append('p')\n",
    "            else:\n",
    "                stack1.append('p')\n",
    "                stack2.append('m')\n",
    "                \n",
    "        else:\n",
    "            \n",
    "            last1=stack1[(len(stack1)-1)]\n",
    "            \n",
    "            if hk[i] == 'h':\n",
    "                if last1=='p':\n",
    "                    stack1.append('m')\n",
    "                else:\n",
    "                    stack1.append('p')\n",
    "            else:\n",
    "                if last1=='p':\n",
    "                    stack1.append('p')\n",
    "                else:\n",
    "                    stack1.append('m')\n",
    "                    \n",
    "            last2=stack2[(len(stack2)-1)]\n",
    "            \n",
    "            if hk[i] == 'h':\n",
    "                if last2=='p':\n",
    "                    stack2.append('m')\n",
    "                else:\n",
    "                    stack2.append('p')\n",
    "            else:\n",
    "                if last2=='p':\n",
    "                    stack2.append('p')\n",
    "                else:\n",
    "                    stack2.append('m')\n",
    "                \n",
    "    stack1.append(stack1[0])\n",
    "    stack2.append(stack2[0])\n",
    "    \n",
    "    return stack1[1:N+1], stack2[1:N+1]"
   ]
  },
  {
   "cell_type": "code",
   "execution_count": 5,
   "id": "479e3850",
   "metadata": {},
   "outputs": [],
   "source": [
    "def getstack(hk):\n",
    "    \n",
    "    stacks=hk2AB(hk)\n",
    "\n",
    "    stack1=pm2AB(stacks[0])\n",
    "    stack2=pm2AB(stacks[1])\n",
    "\n",
    "    ABstack=lex(stack1, stack2)\n",
    "\n",
    "    return ABstack"
   ]
  },
  {
   "cell_type": "markdown",
   "id": "7c676043",
   "metadata": {},
   "source": [
    "# Examples"
   ]
  },
  {
   "cell_type": "markdown",
   "id": "27326549",
   "metadata": {},
   "source": [
    "- Let's take `hk` sequences from Table-1 of [https://doi.org/10.1063/5.0166149](https://doi.org/10.1063/5.0166149) and get their `AB` sequences."
   ]
  },
  {
   "cell_type": "code",
   "execution_count": 6,
   "id": "8a452945",
   "metadata": {},
   "outputs": [],
   "source": [
    "hks=[\n",
    "'h h',\n",
    "'k k k',\n",
    "'h k h k',\n",
    "'h h k k k',\n",
    "'h h h k h k',\n",
    "'h k k h k k'\n",
    "]"
   ]
  },
  {
   "cell_type": "code",
   "execution_count": 7,
   "id": "8a772fa6",
   "metadata": {},
   "outputs": [
    {
     "name": "stdout",
     "output_type": "stream",
     "text": [
      "'AB',\n",
      "'ABC',\n",
      "'ABAC',\n",
      "'ABABC',\n",
      "'ABABAC',\n",
      "'ABACBC',\n"
     ]
    }
   ],
   "source": [
    "for hk in hks:\n",
    "    hk=hk.strip().split()\n",
    "    ABstack1=getstack(hk)\n",
    "    ABstack2=getstack(hk[::-1])\n",
    "    ABstack=sorted([ABstack1,ABstack2])\n",
    "    #print(ABstack[0],\"\".join(hk))\n",
    "    print(\"'\"+ABstack[0]+\"',\")"
   ]
  },
  {
   "cell_type": "markdown",
   "id": "5ead8155",
   "metadata": {},
   "source": [
    "# hk2ABC and hexagonality for hk sequences from a file"
   ]
  },
  {
   "cell_type": "code",
   "execution_count": 18,
   "id": "88323db5",
   "metadata": {},
   "outputs": [],
   "source": [
    "filedata = open('hklist.txt','r')\n",
    "\n",
    "i=0\n",
    "\n",
    "polytypes_hk=[]\n",
    "\n",
    "for line in filedata:\n",
    "    \n",
    "    hk=line.strip().split()[:]\n",
    "    #print(hk)\n",
    "    \n",
    "    shk=''\n",
    "    for ihk in range(len(hk)-1):\n",
    "        shk=shk+hk[ihk]+' '\n",
    "    shk=shk+hk[len(hk)-1]\n",
    "    polytypes_hk.append(shk)\n",
    "    #print(shk)\n",
    "    i+=1\n",
    "#print(polytypes_hk)\n",
    "\n",
    "filedata.close()"
   ]
  },
  {
   "cell_type": "code",
   "execution_count": 20,
   "id": "8637a1c1",
   "metadata": {},
   "outputs": [
    {
     "name": "stdout",
     "output_type": "stream",
     "text": [
      "['h', 'h'] AB 100.0\n",
      "['k', 'k', 'k'] ABC 0.0\n",
      "['h', 'k', 'h', 'k'] ABAC 50.0\n",
      "['h', 'h', 'k', 'k', 'k'] ABABC 40.0\n",
      "['h', 'h', 'h', 'k', 'h', 'k'] ABABAC 66.66666666666667\n",
      "['h', 'k', 'k', 'h', 'k', 'k'] ABACBC 33.333333333333336\n",
      "['h', 'h', 'h', 'h', 'k', 'k', 'k'] ABABABC 57.142857142857146\n",
      "['h', 'h', 'k', 'h', 'h', 'k', 'k'] ABABCAC 57.142857142857146\n",
      "['h', 'k', 'h', 'k', 'k', 'k', 'k'] ABACABC 28.571428571428573\n",
      "['h', 'h', 'h', 'h', 'h', 'k', 'h', 'k'] ABABABAC 75.0\n",
      "['h', 'h', 'h', 'k', 'h', 'h', 'h', 'k'] ABABACAC 75.0\n",
      "['h', 'h', 'h', 'k', 'k', 'h', 'k', 'k'] ABABACBC 50.0\n",
      "['h', 'h', 'k', 'h', 'k', 'k', 'h', 'k'] ABABCBAC 50.0\n",
      "['h', 'h', 'k', 'k', 'k', 'k', 'k', 'k'] ABABCABC 25.0\n",
      "['h', 'k', 'k', 'k', 'h', 'k', 'k', 'k'] ABACBABC 25.0\n",
      "['h', 'h', 'h', 'h', 'h', 'h', 'k', 'k', 'k'] ABABABABC 66.66666666666667\n",
      "['h', 'h', 'h', 'h', 'k', 'h', 'h', 'k', 'k'] ABABABCAC 66.66666666666667\n",
      "['h', 'h', 'h', 'k', 'h', 'k', 'k', 'k', 'k'] ABABACABC 44.44444444444444\n",
      "['h', 'h', 'k', 'h', 'h', 'k', 'h', 'h', 'k'] ABABCBCAC 66.66666666666667\n",
      "['h', 'h', 'k', 'h', 'k', 'h', 'k', 'k', 'k'] ABABCABAC 44.44444444444444\n",
      "['h', 'h', 'k', 'k', 'h', 'k', 'h', 'k', 'k'] ABABCACBC 44.44444444444444\n",
      "['h', 'k', 'k', 'h', 'k', 'k', 'k', 'k', 'k'] ABACBACBC 22.22222222222222\n"
     ]
    }
   ],
   "source": [
    "#filedata=open('Polytypes_L15_ABC.txt','w')\n",
    "for hk in polytypes_hk:\n",
    "    hk=hk.strip().split()\n",
    "    ABstack1=getstack(hk)\n",
    "    ABstack2=getstack(hk[::-1])\n",
    "    ABstack=sorted([ABstack1,ABstack2])\n",
    "    jhk=\"\".join(hk)\n",
    "    #print(ABstack[0],jhk)\n",
    "    #filedata.write(ABstack[0]+'\\n')\n",
    "    Nh=0\n",
    "    for ihk in hk:\n",
    "        if ihk == 'h':\n",
    "            Nh=Nh+1\n",
    "    Nhk=len(hk)\n",
    "    \n",
    "    #if 100*Nh/Nhk >= 80:\n",
    "        #print(hk,ABstack[0],100*Nh/Nhk)\n",
    "    print(hk,ABstack[0],100*Nh/Nhk)\n",
    "filedata.close()"
   ]
  },
  {
   "cell_type": "code",
   "execution_count": null,
   "id": "e1906c09",
   "metadata": {},
   "outputs": [],
   "source": []
  }
 ],
 "metadata": {
  "kernelspec": {
   "display_name": "Python 3 (ipykernel)",
   "language": "python",
   "name": "python3"
  },
  "language_info": {
   "codemirror_mode": {
    "name": "ipython",
    "version": 3
   },
   "file_extension": ".py",
   "mimetype": "text/x-python",
   "name": "python",
   "nbconvert_exporter": "python",
   "pygments_lexer": "ipython3",
   "version": "3.9.13"
  }
 },
 "nbformat": 4,
 "nbformat_minor": 5
}
