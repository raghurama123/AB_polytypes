{
 "cells": [
  {
   "cell_type": "code",
   "execution_count": 1,
   "id": "ef41b2f9",
   "metadata": {},
   "outputs": [],
   "source": [
    "import numpy as np"
   ]
  },
  {
   "cell_type": "code",
   "execution_count": 2,
   "id": "64f6dac4",
   "metadata": {},
   "outputs": [],
   "source": [
    "from scipy import linalg\n",
    "\n",
    "def linsolve(A,b):\n",
    "    x = linalg.solve(A, b)\n",
    "    return x"
   ]
  },
  {
   "cell_type": "code",
   "execution_count": 3,
   "id": "4b750d55",
   "metadata": {},
   "outputs": [],
   "source": [
    "def sigma(seq):\n",
    "    if seq == 'AB':\n",
    "        sig=+1\n",
    "    elif seq == 'BA':\n",
    "        sig=-1\n",
    "    elif seq == 'BC':\n",
    "        sig=+1\n",
    "    elif seq == 'CB':\n",
    "        sig=-1\n",
    "    elif seq == 'CA':\n",
    "        sig=+1\n",
    "    elif seq == 'AC':\n",
    "        sig=-1\n",
    "    return sig"
   ]
  },
  {
   "cell_type": "code",
   "execution_count": 4,
   "id": "319274a4",
   "metadata": {},
   "outputs": [],
   "source": [
    "def Supercell(stack):\n",
    "    \n",
    "    N_supercell=20\n",
    "    \n",
    "    Layers=[]\n",
    "    for j in range(0,N_supercell):\n",
    "        for i in range(len(stack)):\n",
    "            Layers.append(stack[i]) \n",
    "            \n",
    "    return Layers"
   ]
  },
  {
   "cell_type": "markdown",
   "id": "f9a0e880",
   "metadata": {},
   "source": [
    "# Stoichiometric matrix with pairwise terms and a 4-body term"
   ]
  },
  {
   "cell_type": "code",
   "execution_count": 5,
   "id": "9184ccfd",
   "metadata": {},
   "outputs": [],
   "source": [
    "def stoiJK(stack,N_int):\n",
    "    \n",
    "    stacks=Supercell(stack)\n",
    "    \n",
    "    A=[]\n",
    "    for i in range(len(stack)):\n",
    "        sig_i=sigma(stacks[i]+stacks[i+1])\n",
    "        row=[]\n",
    "        for j in range(1,N_int+1):\n",
    "            sig_j=sigma(stacks[i+j]+stacks[i+j+1])\n",
    "            row.append(-sig_i*sig_j)\n",
    "            #row.append(sig_i*sig_j)\n",
    "        sig_i1=sigma(stacks[i+1]+stacks[i+2])\n",
    "        sig_i2=sigma(stacks[i+2]+stacks[i+3])\n",
    "        sig_i3=sigma(stacks[i+3]+stacks[i+4])\n",
    "        row.append(-sig_i*sig_i1*sig_i2*sig_i3)\n",
    "        #row.append(sig_i*sig_i1*sig_i2*sig_i3)\n",
    "        A.append(row)\n",
    "        \n",
    "    A=np.array(A)/len(stack)\n",
    "\n",
    "    row=[1]\n",
    "    for j in range(0,N_int+1):\n",
    "        row.append(np.sum(A[:,j]))\n",
    "        \n",
    "    return row"
   ]
  },
  {
   "cell_type": "code",
   "execution_count": 6,
   "id": "680747b1",
   "metadata": {},
   "outputs": [],
   "source": [
    "def StoiMatJK(stacks,N_int):\n",
    "    \n",
    "    A=[]\n",
    "    \n",
    "    for stack in stacks:\n",
    "        row=stoiJK(stack,N_int)\n",
    "        A.append(row)\n",
    "        \n",
    "    A=np.array(A)\n",
    "    \n",
    "    return A"
   ]
  },
  {
   "cell_type": "code",
   "execution_count": 7,
   "id": "b09ecdd3",
   "metadata": {},
   "outputs": [
    {
     "name": "stdout",
     "output_type": "stream",
     "text": [
      "[[ 1.          1.         -1.          1.         -1.        ]\n",
      " [ 1.         -1.         -1.         -1.         -1.        ]\n",
      " [ 1.          0.          1.          0.         -1.        ]\n",
      " [ 1.         -0.2        -0.2        -0.2         0.6       ]\n",
      " [ 1.          0.33333333  0.33333333 -0.33333333 -0.33333333]]\n"
     ]
    }
   ],
   "source": [
    "stacks=['AB','ABC','ABAC','ABABC','ABABAC']\n",
    "A=StoiMatJK(stacks,3) # interactions until the third later\n",
    "print(A)"
   ]
  },
  {
   "cell_type": "code",
   "execution_count": 8,
   "id": "17505866",
   "metadata": {},
   "outputs": [
    {
     "name": "stdout",
     "output_type": "stream",
     "text": [
      "[ 3.02212103  0.57539852  0.22164661 -0.1785336  -0.0961884 ]\n"
     ]
    }
   ],
   "source": [
    "#SiC\n",
    "HSE03_gap=[3.29352774, 2.49979791, 3.33995604, 2.84070568, 3.37937674]\n",
    "HSE03_gap=np.array(HSE03_gap)\n",
    "\n",
    "J=linsolve(A,HSE03_gap)\n",
    "print(J)\n",
    "\n",
    "#3.022 0.575 0.222 −0.179 −0.096"
   ]
  },
  {
   "cell_type": "code",
   "execution_count": null,
   "id": "7055b0a9",
   "metadata": {},
   "outputs": [],
   "source": []
  }
 ],
 "metadata": {
  "kernelspec": {
   "display_name": "Python 3 (ipykernel)",
   "language": "python",
   "name": "python3"
  },
  "language_info": {
   "codemirror_mode": {
    "name": "ipython",
    "version": 3
   },
   "file_extension": ".py",
   "mimetype": "text/x-python",
   "name": "python",
   "nbconvert_exporter": "python",
   "pygments_lexer": "ipython3",
   "version": "3.9.13"
  }
 },
 "nbformat": 4,
 "nbformat_minor": 5
}
