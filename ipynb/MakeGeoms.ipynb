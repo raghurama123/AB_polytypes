{
 "cells": [
  {
   "cell_type": "code",
   "execution_count": 1,
   "id": "95565528",
   "metadata": {},
   "outputs": [],
   "source": [
    "import numpy as np\n",
    "import os"
   ]
  },
  {
   "cell_type": "code",
   "execution_count": 2,
   "id": "b52133e2",
   "metadata": {},
   "outputs": [],
   "source": [
    "def latt(a,c):\n",
    "    \n",
    "    v1=np.array([a/2, -np.sqrt(3)*a/2, 0])\n",
    "    v2=np.array([a/2,  np.sqrt(3)*a/2, 0])\n",
    "    v3=np.array([  0,               0, c])\n",
    "    \n",
    "    return v1, v2, v3"
   ]
  },
  {
   "cell_type": "code",
   "execution_count": 3,
   "id": "e213bb30",
   "metadata": {},
   "outputs": [],
   "source": [
    "def pos_xyz(X,p,q):\n",
    "    \n",
    "    if X == 'A':\n",
    "        x = 0 \n",
    "        y = 0\n",
    "        z = p/q \n",
    "        \n",
    "    elif X == 'B':\n",
    "        x = 1/3 \n",
    "        y = 2/3\n",
    "        z = p/q \n",
    "        \n",
    "    elif X == 'C':\n",
    "        x = 2/3 \n",
    "        y = 1/3\n",
    "        z = p/q\n",
    "        \n",
    "    return x, y, z"
   ]
  },
  {
   "cell_type": "code",
   "execution_count": 4,
   "id": "5029f59b",
   "metadata": {},
   "outputs": [],
   "source": [
    "def geom(Stacking,A,B):\n",
    "    \n",
    "    M=len(Stacking)\n",
    "    \n",
    "    dire=A+B+'_'+Stacking+'_'+str(M)+'_bilayers'\n",
    "    os.system('rm -rf '+dire)\n",
    "    os.mkdir(dire)\n",
    "    \n",
    "    a=3\n",
    "    c=2.5*M\n",
    "    \n",
    "    v1,v2,v3=latt(a,c)\n",
    "    \n",
    "    f = open(\"geometry.in\", \"w\")\n",
    "    \n",
    "    fstring=(f'''lattice_vector  {v1[0]:22.16f} {v1[1]:22.16f} {v1[2]:22.16f}''')\n",
    "    f.write(fstring+'\\n')\n",
    "    fstring=(f'''lattice_vector  {v2[0]:22.16f} {v2[1]:22.16f} {v2[2]:22.16f}''')\n",
    "    f.write(fstring+'\\n')\n",
    "    fstring=(f'''lattice_vector  {v3[0]:22.16f} {v3[1]:22.16f} {v3[2]:22.16f}''')\n",
    "    f.write(fstring+'\\n')\n",
    "    \n",
    "    d=3/(M*4)\n",
    "    \n",
    "    Layers=[]\n",
    "    for i in range(len(Stacking)):\n",
    "        Layers.append(Stacking[i])\n",
    "    \n",
    "    for iLayer in range(M):\n",
    "        x, y, z = pos_xyz(Layers[iLayer],iLayer,M)\n",
    "        fstring=(f'''atom_frac       {x:22.16f} {y:22.16f} {z:22.16f}  {A}''')\n",
    "        f.write(fstring+'\\n')\n",
    "    for iLayer in range(M):\n",
    "        x, y, z = pos_xyz(Layers[iLayer],iLayer,M)\n",
    "        fstring=(f'''atom_frac       {x:22.16f} {y:22.16f} {z+d:22.16f}  {B}''')\n",
    "        f.write(fstring+'\\n')\n",
    "\n",
    "    fstring=(f'''symmetry_n_params{2+2*M:5d}{2:5d}{2*M:5d}''')\n",
    "    f.write(fstring+'\\n')\n",
    "    \n",
    "    params=''\n",
    "    for iLayer in range(2*M): \n",
    "        params=params+' u'+str(iLayer+1)\n",
    "    \n",
    "    f.write('symmetry_params     a c'+params+'\\n')\n",
    "    \n",
    "    fstring=(f'''symmetry_lv     {0.5:22.16f}*a,{-np.sqrt(3)/2:20.16f}*a,{0:20.16f}''')\n",
    "    f.write(fstring+'\\n')\n",
    "    fstring=(f'''symmetry_lv     {0.5:22.16f}*a,{np.sqrt(3)/2:20.16f}*a,{0:20.16f}''')\n",
    "    f.write(fstring+'\\n')\n",
    "    fstring=(f'''symmetry_lv     {0:22.16f},  {0:20.16f},    c''')\n",
    "    f.write(fstring+'\\n')\n",
    "\n",
    "    for iLayer in range(M):\n",
    "        x, y, z = pos_xyz(Layers[iLayer],iLayer,M)\n",
    "        fstring=(f'''symmetry_frac   {x:22.16f},{y:22.16f},{z:22.16f}'''+' + u'+str(iLayer+1))\n",
    "        f.write(fstring+'\\n')\n",
    "    for iLayer in range(M):\n",
    "        x, y, z = pos_xyz(Layers[iLayer],iLayer,M)\n",
    "        fstring=(f'''symmetry_frac   {x:22.16f},{y:22.16f},{z+d:22.16f}'''+' + u'+str(M+iLayer+1))\n",
    "        f.write(fstring+'\\n')\n",
    "    \n",
    "    f.close()\n",
    "    \n",
    "    os.system('cp geometry.in '+dire+'/geometry.in')\n",
    "        \n",
    "    return 0"
   ]
  },
  {
   "cell_type": "code",
   "execution_count": 5,
   "id": "eae51557",
   "metadata": {},
   "outputs": [
    {
     "data": {
      "text/plain": [
       "0"
      ]
     },
     "execution_count": 5,
     "metadata": {},
     "output_type": "execute_result"
    }
   ],
   "source": [
    "geom('AB','Si','C')"
   ]
  }
 ],
 "metadata": {
  "kernelspec": {
   "display_name": "Python 3 (ipykernel)",
   "language": "python",
   "name": "python3"
  },
  "language_info": {
   "codemirror_mode": {
    "name": "ipython",
    "version": 3
   },
   "file_extension": ".py",
   "mimetype": "text/x-python",
   "name": "python",
   "nbconvert_exporter": "python",
   "pygments_lexer": "ipython3",
   "version": "3.9.13"
  }
 },
 "nbformat": 4,
 "nbformat_minor": 5
}
