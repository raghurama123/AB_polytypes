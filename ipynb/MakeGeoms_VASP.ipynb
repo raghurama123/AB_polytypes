{
 "cells": [
  {
   "cell_type": "code",
   "execution_count": 1,
   "id": "fdf1a8fb",
   "metadata": {},
   "outputs": [],
   "source": [
    "import numpy as np\n",
    "import os"
   ]
  },
  {
   "cell_type": "code",
   "execution_count": 2,
   "id": "8f9a15a1",
   "metadata": {},
   "outputs": [],
   "source": [
    "def latt(a,c):\n",
    "    \n",
    "    v1=np.array([a/2, -np.sqrt(3)*a/2, 0])\n",
    "    v2=np.array([a/2,  np.sqrt(3)*a/2, 0])\n",
    "    v3=np.array([  0,               0, c])\n",
    "    \n",
    "    return v1, v2, v3"
   ]
  },
  {
   "cell_type": "code",
   "execution_count": 3,
   "id": "79366b57",
   "metadata": {},
   "outputs": [],
   "source": [
    "def pos_xyz(X,p,q):\n",
    "    \n",
    "    if X == 'A':\n",
    "        x = 0 \n",
    "        y = 0\n",
    "        z = p/q \n",
    "        \n",
    "    elif X == 'B':\n",
    "        x = 1/3 \n",
    "        y = 2/3\n",
    "        z = p/q \n",
    "        \n",
    "    elif X == 'C':\n",
    "        x = 2/3 \n",
    "        y = 1/3\n",
    "        z = p/q\n",
    "        \n",
    "    return x, y, z"
   ]
  },
  {
   "cell_type": "code",
   "execution_count": 4,
   "id": "e3cac110",
   "metadata": {},
   "outputs": [],
   "source": [
    "def geom(Stacking,A,B):\n",
    "    \n",
    "    M=len(Stacking) # Number of bilayers\n",
    "    \n",
    "    dire=A+B+'_'+Stacking # directory name\n",
    "    \n",
    "    os.system('rm -rf '+dire)\n",
    "    os.mkdir(dire)\n",
    "    \n",
    "    # Fixed lattice parameters    \n",
    "    a=3\n",
    "    c=2.5*M\n",
    "    \n",
    "    v1,v2,v3=latt(a,c)\n",
    "    \n",
    "    f = open(\"POSCAR\", \"w\")\n",
    "    \n",
    "    f.write(dire+'\\n')    \n",
    "    f.write('1.000'+'\\n')\n",
    "    \n",
    "    # Lattice vectors\n",
    "    fstring=(f'''{v1[0]:22.16f} {v1[1]:22.16f} {v1[2]:22.16f}''')\n",
    "    f.write(fstring+'\\n')\n",
    "    fstring=(f'''{v2[0]:22.16f} {v2[1]:22.16f} {v2[2]:22.16f}''')\n",
    "    f.write(fstring+'\\n')\n",
    "    fstring=(f'''{v3[0]:22.16f} {v3[1]:22.16f} {v3[2]:22.16f}''')\n",
    "    f.write(fstring+'\\n')\n",
    "    \n",
    "    f.write(f'''{A} {B}'''+'\\n')\n",
    "    f.write(f'''{M:3d} {M:3d}'''+'\\n')\n",
    "    \n",
    "    f.write('Direct'+'\\n')\n",
    "    \n",
    "    Layers=[]\n",
    "    for i in range(M):\n",
    "        Layers.append(Stacking[i])\n",
    "    \n",
    "    # Fractional coordinates\n",
    "    # Si\n",
    "    for iLayer in range(M):\n",
    "        x, y, z = pos_xyz(Layers[iLayer],iLayer,M)\n",
    "        fstring=(f'''{x:22.16f} {y:22.16f} {z:22.16f}''')\n",
    "        f.write(fstring+'\\n')\n",
    "    \n",
    "    # C\n",
    "    d=3/(M*4)\n",
    "    for iLayer in range(M):\n",
    "        x, y, z = pos_xyz(Layers[iLayer],iLayer,M)\n",
    "        z=z+d # add 'd' to 'z'\n",
    "        fstring=(f'''{x:22.16f} {y:22.16f} {z:22.16f}''')\n",
    "        f.write(fstring+'\\n')\n",
    "\n",
    "    f.close()\n",
    "    \n",
    "    os.system('cp POSCAR '+dire+'/POSCAR')\n",
    "        \n",
    "    return 0"
   ]
  },
  {
   "cell_type": "code",
   "execution_count": 5,
   "id": "956760b0",
   "metadata": {},
   "outputs": [
    {
     "data": {
      "text/plain": [
       "0"
      ]
     },
     "execution_count": 5,
     "metadata": {},
     "output_type": "execute_result"
    }
   ],
   "source": [
    "geom('AB','Si','C')"
   ]
  },
  {
   "cell_type": "code",
   "execution_count": null,
   "id": "18b95cc0",
   "metadata": {},
   "outputs": [],
   "source": []
  }
 ],
 "metadata": {
  "kernelspec": {
   "display_name": "Python 3.11",
   "language": "python",
   "name": "python3.11"
  },
  "language_info": {
   "codemirror_mode": {
    "name": "ipython",
    "version": 3
   },
   "file_extension": ".py",
   "mimetype": "text/x-python",
   "name": "python",
   "nbconvert_exporter": "python",
   "pygments_lexer": "ipython3",
   "version": "3.11.6"
  }
 },
 "nbformat": 4,
 "nbformat_minor": 5
}
