{
 "cells": [
  {
   "cell_type": "markdown",
   "id": "b6d30501",
   "metadata": {},
   "source": [
    "# Code to convert `hk` sequence to `AB` sequence"
   ]
  },
  {
   "cell_type": "code",
   "execution_count": 1,
   "id": "7b78fb5f",
   "metadata": {},
   "outputs": [],
   "source": [
    "def sigma(seq):\n",
    "    if seq == 'AB':\n",
    "        sig=+1\n",
    "    elif seq == 'BA':\n",
    "        sig=-1\n",
    "    elif seq == 'BC':\n",
    "        sig=+1\n",
    "    elif seq == 'CB':\n",
    "        sig=-1\n",
    "    elif seq == 'CA':\n",
    "        sig=+1\n",
    "    elif seq == 'AC':\n",
    "        sig=-1\n",
    "    return sig"
   ]
  },
  {
   "cell_type": "code",
   "execution_count": 2,
   "id": "b64a764a",
   "metadata": {},
   "outputs": [],
   "source": [
    "def Supercell(stack):\n",
    "    \n",
    "    N_supercell=20\n",
    "    \n",
    "    Layers=[]\n",
    "    for j in range(0,N_supercell):\n",
    "        for i in range(len(stack)):\n",
    "            Layers.append(stack[i]) \n",
    "            \n",
    "    return Layers"
   ]
  },
  {
   "cell_type": "code",
   "execution_count": 3,
   "id": "5a232aff",
   "metadata": {},
   "outputs": [],
   "source": [
    "def AB2Hagg(stack):\n",
    "    \n",
    "    stacks=Supercell(stack)\n",
    "    \n",
    "    row=[]\n",
    "    for i in range(len(stack)):\n",
    "        sig=sigma(stacks[i]+stacks[i+1])\n",
    "        row.append(sig)\n",
    "    \n",
    "    return row"
   ]
  },
  {
   "cell_type": "markdown",
   "id": "792fdf43",
   "metadata": {},
   "source": [
    "# Examples"
   ]
  },
  {
   "cell_type": "markdown",
   "id": "56fb71ec",
   "metadata": {},
   "source": [
    "- Let's take `AB` sequences from Table-1 of [https://doi.org/10.1063/5.0166149](https://doi.org/10.1063/5.0166149) and get their Haegg notation, i.e., the `+-` sequences."
   ]
  },
  {
   "cell_type": "code",
   "execution_count": 4,
   "id": "9363cbfd",
   "metadata": {},
   "outputs": [],
   "source": [
    "stacks=[    \n",
    "'AB',\n",
    "'ABC',\n",
    "'ABAC',\n",
    "'ABABC',\n",
    "'ABABAC',\n",
    "'ABACBC']"
   ]
  },
  {
   "cell_type": "code",
   "execution_count": 5,
   "id": "d3e21335",
   "metadata": {},
   "outputs": [
    {
     "name": "stdout",
     "output_type": "stream",
     "text": [
      "+-\n",
      "+++\n",
      "+--+\n",
      "+-+++\n",
      "+-+--+\n",
      "+---++\n"
     ]
    }
   ],
   "source": [
    "for stack in stacks:\n",
    "    thagg=AB2Hagg(stack)\n",
    "    hagg=''\n",
    "    for ihagg in thagg:\n",
    "        if ihagg > 0:\n",
    "            hagg=hagg+'+'\n",
    "        else:\n",
    "            hagg=hagg+'-'\n",
    "    print(hagg)"
   ]
  }
 ],
 "metadata": {
  "kernelspec": {
   "display_name": "Python 3 (ipykernel)",
   "language": "python",
   "name": "python3"
  },
  "language_info": {
   "codemirror_mode": {
    "name": "ipython",
    "version": 3
   },
   "file_extension": ".py",
   "mimetype": "text/x-python",
   "name": "python",
   "nbconvert_exporter": "python",
   "pygments_lexer": "ipython3",
   "version": "3.9.13"
  }
 },
 "nbformat": 4,
 "nbformat_minor": 5
}
