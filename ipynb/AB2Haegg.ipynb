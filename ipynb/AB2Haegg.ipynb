{
 "cells": [
  {
   "cell_type": "markdown",
   "id": "d95debed",
   "metadata": {},
   "source": [
    "# Code to convert `hk` sequence to `AB` sequence"
   ]
  },
  {
   "cell_type": "code",
   "execution_count": 1,
   "id": "8da960e1",
   "metadata": {},
   "outputs": [],
   "source": [
    "def sigma(seq):\n",
    "    if seq == 'AB':\n",
    "        sig=+1\n",
    "    elif seq == 'BA':\n",
    "        sig=-1\n",
    "    elif seq == 'BC':\n",
    "        sig=+1\n",
    "    elif seq == 'CB':\n",
    "        sig=-1\n",
    "    elif seq == 'CA':\n",
    "        sig=+1\n",
    "    elif seq == 'AC':\n",
    "        sig=-1\n",
    "    return sig"
   ]
  },
  {
   "cell_type": "code",
   "execution_count": 2,
   "id": "7710b3bc",
   "metadata": {},
   "outputs": [],
   "source": [
    "def Supercell(stack):\n",
    "    \n",
    "    N_supercell=20\n",
    "    \n",
    "    Layers=[]\n",
    "    for j in range(0,N_supercell):\n",
    "        for i in range(len(stack)):\n",
    "            Layers.append(stack[i]) \n",
    "            \n",
    "    return Layers"
   ]
  },
  {
   "cell_type": "code",
   "execution_count": 3,
   "id": "e90c2103",
   "metadata": {},
   "outputs": [],
   "source": [
    "def AB2Hagg(stack):\n",
    "    \n",
    "    stacks=Supercell(stack)\n",
    "    \n",
    "    row=[]\n",
    "    for i in range(len(stack)):\n",
    "        sig=sigma(stacks[i]+stacks[i+1])\n",
    "        row.append(sig)\n",
    "    \n",
    "    return row"
   ]
  },
  {
   "cell_type": "code",
   "execution_count": 4,
   "id": "7bdee0eb",
   "metadata": {},
   "outputs": [],
   "source": [
    "stacks=[    \n",
    "'AB',\n",
    "'ABC',\n",
    "'ABAC',\n",
    "'ABABC',\n",
    "'ABABAC',\n",
    "'ABACBC']"
   ]
  },
  {
   "cell_type": "code",
   "execution_count": 5,
   "id": "fbc4e8ee",
   "metadata": {},
   "outputs": [
    {
     "ename": "NameError",
     "evalue": "name 'hagg' is not defined",
     "output_type": "error",
     "traceback": [
      "\u001b[0;31m---------------------------------------------------------------------------\u001b[0m",
      "\u001b[0;31mNameError\u001b[0m                                 Traceback (most recent call last)",
      "Cell \u001b[0;32mIn[5], line 5\u001b[0m\n\u001b[1;32m      3\u001b[0m \u001b[38;5;28;01mfor\u001b[39;00m ihagg \u001b[38;5;129;01min\u001b[39;00m thagg:\n\u001b[1;32m      4\u001b[0m     \u001b[38;5;28;01mif\u001b[39;00m ihagg \u001b[38;5;241m>\u001b[39m \u001b[38;5;241m0\u001b[39m:\n\u001b[0;32m----> 5\u001b[0m         hagg\u001b[38;5;241m=\u001b[39m\u001b[43mhagg\u001b[49m\u001b[38;5;241m+\u001b[39m\u001b[38;5;124m'\u001b[39m\u001b[38;5;124m+\u001b[39m\u001b[38;5;124m'\u001b[39m\n\u001b[1;32m      6\u001b[0m     \u001b[38;5;28;01melse\u001b[39;00m:\n\u001b[1;32m      7\u001b[0m         hagg\u001b[38;5;241m=\u001b[39mhagg\u001b[38;5;241m+\u001b[39m\u001b[38;5;124m'\u001b[39m\u001b[38;5;124m-\u001b[39m\u001b[38;5;124m'\u001b[39m\n",
      "\u001b[0;31mNameError\u001b[0m: name 'hagg' is not defined"
     ]
    }
   ],
   "source": [
    "for stack in stacks:\n",
    "    thagg=AB2Hagg(stack)\n",
    "    for ihagg in thagg:\n",
    "        if ihagg > 0:\n",
    "            hagg=hagg+'+'\n",
    "        else:\n",
    "            hagg=hagg+'-'\n",
    "    print(hagg)"
   ]
  },
  {
   "cell_type": "code",
   "execution_count": null,
   "id": "6220be71",
   "metadata": {},
   "outputs": [],
   "source": []
  }
 ],
 "metadata": {
  "kernelspec": {
   "display_name": "Python 3 (ipykernel)",
   "language": "python",
   "name": "python3"
  },
  "language_info": {
   "codemirror_mode": {
    "name": "ipython",
    "version": 3
   },
   "file_extension": ".py",
   "mimetype": "text/x-python",
   "name": "python",
   "nbconvert_exporter": "python",
   "pygments_lexer": "ipython3",
   "version": "3.9.13"
  }
 },
 "nbformat": 4,
 "nbformat_minor": 5
}
